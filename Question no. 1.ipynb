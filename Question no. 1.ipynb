{
 "cells": [
  {
   "cell_type": "code",
   "execution_count": 1,
   "id": "1ff00042",
   "metadata": {},
   "outputs": [],
   "source": [
    "class stack_list:\n",
    "    def __init__(self):\n",
    "        self.stack=[]\n",
    "        \n",
    "    def push(self,l):\n",
    "        self.stack.append(l)\n",
    "        \n",
    "    def pop(self):\n",
    "        if not self.isEmpty():\n",
    "            return self.stack.pop()\n",
    "        else:\n",
    "            raise IndexError(\"Stack_list is empty\")\n",
    "            \n",
    "    def isEmpty(self):\n",
    "        return len(self.stack)==0"
   ]
  },
  {
   "cell_type": "code",
   "execution_count": 2,
   "id": "52e563b9",
   "metadata": {},
   "outputs": [],
   "source": [
    "s=stack_list()"
   ]
  },
  {
   "cell_type": "code",
   "execution_count": 3,
   "id": "eb27e94a",
   "metadata": {},
   "outputs": [],
   "source": [
    "s.push(10)"
   ]
  },
  {
   "cell_type": "code",
   "execution_count": 5,
   "id": "372a32d7",
   "metadata": {},
   "outputs": [],
   "source": [
    "s.push(20)"
   ]
  },
  {
   "cell_type": "code",
   "execution_count": 6,
   "id": "b0a6ec36",
   "metadata": {},
   "outputs": [],
   "source": [
    "s.push(40)"
   ]
  },
  {
   "cell_type": "code",
   "execution_count": 7,
   "id": "c7a9ce44",
   "metadata": {},
   "outputs": [
    {
     "name": "stdout",
     "output_type": "stream",
     "text": [
      "40\n"
     ]
    }
   ],
   "source": [
    "print(s.pop())"
   ]
  },
  {
   "cell_type": "code",
   "execution_count": 8,
   "id": "c8b92468",
   "metadata": {},
   "outputs": [
    {
     "name": "stdout",
     "output_type": "stream",
     "text": [
      "False\n"
     ]
    }
   ],
   "source": [
    "print(s.isEmpty())"
   ]
  },
  {
   "cell_type": "code",
   "execution_count": null,
   "id": "786cfe47",
   "metadata": {},
   "outputs": [],
   "source": []
  }
 ],
 "metadata": {
  "kernelspec": {
   "display_name": "Python 3 (ipykernel)",
   "language": "python",
   "name": "python3"
  },
  "language_info": {
   "codemirror_mode": {
    "name": "ipython",
    "version": 3
   },
   "file_extension": ".py",
   "mimetype": "text/x-python",
   "name": "python",
   "nbconvert_exporter": "python",
   "pygments_lexer": "ipython3",
   "version": "3.9.13"
  }
 },
 "nbformat": 4,
 "nbformat_minor": 5
}
