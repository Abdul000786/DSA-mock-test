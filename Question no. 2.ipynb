{
 "cells": [
  {
   "cell_type": "code",
   "execution_count": 15,
   "id": "5678ad0a",
   "metadata": {},
   "outputs": [],
   "source": [
    "class queue_list:\n",
    "    def __init__(self):\n",
    "        self.queue=[]\n",
    "        \n",
    "    def enqueue(self,l):\n",
    "        self.queue.append(l)\n",
    "        \n",
    "    def dequeue(self):\n",
    "        if not self.isEmpty():\n",
    "            return self.queue.pop(0)\n",
    "        else:\n",
    "            raise IndexError(\"queue is empty\")\n",
    "            \n",
    "    def isEmpty(self):\n",
    "        return len(self.queue)==0"
   ]
  },
  {
   "cell_type": "code",
   "execution_count": 16,
   "id": "9c81bf0f",
   "metadata": {},
   "outputs": [],
   "source": [
    "q=queue_list()"
   ]
  },
  {
   "cell_type": "code",
   "execution_count": 17,
   "id": "936506bb",
   "metadata": {},
   "outputs": [],
   "source": [
    "q.enqueue(1)"
   ]
  },
  {
   "cell_type": "code",
   "execution_count": 18,
   "id": "346ce73c",
   "metadata": {},
   "outputs": [],
   "source": [
    "q.enqueue(2)"
   ]
  },
  {
   "cell_type": "code",
   "execution_count": 19,
   "id": "18440916",
   "metadata": {},
   "outputs": [],
   "source": [
    "q.enqueue(3)"
   ]
  },
  {
   "cell_type": "code",
   "execution_count": 20,
   "id": "50ba941a",
   "metadata": {},
   "outputs": [
    {
     "name": "stdout",
     "output_type": "stream",
     "text": [
      "1\n"
     ]
    }
   ],
   "source": [
    "print(q.dequeue())"
   ]
  },
  {
   "cell_type": "code",
   "execution_count": 21,
   "id": "248405e2",
   "metadata": {},
   "outputs": [
    {
     "name": "stdout",
     "output_type": "stream",
     "text": [
      "False\n"
     ]
    }
   ],
   "source": [
    "print(q.isEmpty())"
   ]
  },
  {
   "cell_type": "code",
   "execution_count": null,
   "id": "66eb6dd0",
   "metadata": {},
   "outputs": [],
   "source": []
  }
 ],
 "metadata": {
  "kernelspec": {
   "display_name": "Python 3 (ipykernel)",
   "language": "python",
   "name": "python3"
  },
  "language_info": {
   "codemirror_mode": {
    "name": "ipython",
    "version": 3
   },
   "file_extension": ".py",
   "mimetype": "text/x-python",
   "name": "python",
   "nbconvert_exporter": "python",
   "pygments_lexer": "ipython3",
   "version": "3.9.13"
  }
 },
 "nbformat": 4,
 "nbformat_minor": 5
}
